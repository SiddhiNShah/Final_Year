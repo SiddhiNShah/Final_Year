{
  "nbformat": 4,
  "nbformat_minor": 0,
  "metadata": {
    "colab": {
      "provenance": []
    },
    "kernelspec": {
      "name": "python3",
      "display_name": "Python 3"
    },
    "language_info": {
      "name": "python"
    }
  },
  "cells": [
    {
      "cell_type": "markdown",
      "source": [
        "**Practical 1**\n",
        "\n",
        "Assignment: DNA Sequence Analysis.\n",
        "\n",
        "Task: Analyze a given DNA sequence and perform basic sequence manipulation,including finding motifs, calculating GC content, and identifying coding regions.\n",
        "\n",
        "Deliverable: A report summarizing the analysis results and any insights gained from the sequence."
      ],
      "metadata": {
        "id": "yi18MwoJMY9N"
      }
    },
    {
      "cell_type": "markdown",
      "source": [
        "**DNA sequence** :\n",
        "\n",
        "DNA (deoxyribonucleic acid) sequences are the building blocks of genetic information in living organisms. A DNA sequence consists of a string of nucleotide bases—adenine (A), cytosine (C), guanine (G), and thymine (T)—that store instructions for cellular functions and the development of traits. These sequences carry the genetic code, which directs the synthesis of proteins, the essential molecules that drive various biological processes.DNA sequences are crucial because they carry the genetic information that determines the structure, function, and behavior of every living organism.\n",
        "\n",
        "Importance:\n",
        "- Genetic blueprint : DNA seq encode the instructions to build proteins, which are essential for cellular structure, metabolism, function. Each gene in a DNA seq provides specific code for protein, directly influencing traits and functions in an organsim.\n",
        "- Heredity and Evolution : It carries traits and characteristics to next generation. Sequence variations or mutations contribute to genetic diversity within a population, which is essential for natural evolution.\n",
        "- Disease Diagnosis and treatment : Many of Diseases are caused by mutation or specific variations in DNA seq.. We can identify these variations to diagnose genetic disorders and develop targeted treatments. Ex: Cancer.\n",
        "- Forensic Science: DNA seq are highly individual (unique except in twins), which makes them powerful tool in investigations.\n",
        "- Agriculture and biotechnology : DNA seq. is used to improve crop and livestock traits such as yield, resistance to disease and nutrition value. We can do this by understanding the genetic code and develop genetically modified organisms (GMOs) that have enhanced characteristics.\n",
        "- Research and Understanding of Biological Processes : DNA seq analysis helps understand complex biological processes such as gene regulation, cellular signaling, etc. It provides insights into how genes are turned on or off, that is crucial for understanding disease mechanisms and development disorders.\n",
        "\n",
        "**Sequence Manipulation** :    \n",
        "\n",
        "Sequence Manipulation in DNA analysis involves modifying, analyzing, extracting information from DNA sequences to gain insights into genetic function, structure, evolution. Basic sequence manipulation includes operations like finding motifs ( specific recurring patterns), calculating base compositions, translating DNA to RNA or protein sequences, identifying coding regions.\n",
        "\n",
        "Importance:\n",
        "- Identifying Functional Elements : We can locate coging regions (exons) within a DNa seq that are transcribed and translated into proteins. These elemts help us understand how genes function and interact.\n",
        "- Pattern Recognition and Motif Identification : Recognizing motifs like binding sites for transcription factors or common regulatory sequences, is important to understand gene regulation and the underlying mechanism of cellular control. Certain motifs are highly conserved and play essential roles in gene expression and protein building.\n",
        "- GC content analysis : Calculating GC content (percentage of guanine and cytosine bases) can provide insights into the stability and structural properties of DNA regions. High GC content regions tend to be more thermally stable and less prone to mutations. This analysis is also used to differentiate coding and non-coding regions and help in species classification.\n",
        "- Mutation Detection and Comparison :  Sequence manipulation allows us to compare DNa seq and detect mutations or differences between them. This is essential for understanding genetic disorders, identifying biomarkers, studying evolutionary relationships.\n",
        "- Transcription and Translation Simulations : By manipulating DNA seq, we can simulate transcription (DNA to RNA) and translation (RNA to Protein) processes. This is useful for studying gene expression, protein synthesis, exploring how mutations in DNA affect protein functions.\n",
        "- Gene Prediction and Annotation : Manipulating sequences to identify start and stop codons helps in predicting gene locations, which is fundamental for annotating genomes and understanding genetic blueprint of organisms.\n",
        "- Data Compression and Storage : With massive amounts of genetic data being generated, efficient storage ; handling of sequence data is essential. Manipulation techniques, such as removing redundancies or storing only key elements, can help in data compression and efficient retrieval.\n",
        "\n",
        "**Motifs** :\n",
        "\n",
        "Motifs in DNA seq are short recurring patterns of nucleotides that have biological significance.\n",
        "\n",
        "They are associated with regulatory or functional roles, guiding processes such as gene expression, DNA replication, protein binding.\n",
        "\n",
        "Motifs can appear in coding or non-coding regions and are often conserved across species indicating their importance in maintaining vital biological functions.\n",
        "\n",
        "Importance :  \n",
        " - Gene Regulation and Expression: Certain motifs serve as binding sites for transcription factors, which are proteins that regulate gene expression. For instance, the TATA box is a well-known promoter motif found in many genes, helping initiate the transcription process. By identifying motifs in promoter regions, scientists can better understand how genes are turned on or off, especially in response to environmental signals.\n",
        "\n",
        " - DNA-Protein Interactions: Many motifs act as recognition sites for proteins, such as transcription factors, RNA polymerases, or enzymes involved in DNA repair and replication. For example, certain motifs signal the start of DNA replication. Understanding these interactions helps researchers study how proteins influence cellular processes at the genetic level.\n",
        "\n",
        " - Structural and Functional Stability: Some motifs are structurally conserved because they are essential for DNA stability or functionality. For instance, motifs that signal the beginning or end of a coding sequence (like start and stop codons) are critical for proper translation during protein synthesis. Mutations in these motifs can disrupt gene function, leading to genetic disorders.\n",
        "\n",
        " - Evolutionary Conservation and Phylogenetics: Highly conserved motifs across species indicate essential functions that have remained stable through evolution. Comparing these motifs helps researchers trace evolutionary relationships and identify functionally important sequences across genomes, which can be used for constructing phylogenetic trees and studying the evolutionary history of species.\n",
        "\n",
        " - Identification of Genetic Markers: Certain motifs serve as genetic markers, which are essential for genetic mapping, genome-wide association studies, and marker-assisted selection. Motifs that vary among individuals (like microsatellites) are useful in genetic diversity studies, forensics, and understanding population genetics.\n",
        "\n",
        " - Disease Research and Drug Design: Disease-associated mutations are often located in motif regions, especially those regulating gene expression or protein binding. Identifying motifs linked to disease can aid in diagnosing genetic disorders and developing targeted treatments. For example, motifs that act as binding sites for disease-related proteins can be targets for drug design, enabling treatments that modulate these interactions.\n",
        "\n",
        " - Applications in Bioinformatics: Motif finding is a major area of bioinformatics, where algorithms analyze DNA sequences to predict potential regulatory sites or functional regions. This is valuable for annotating genomes and predicting gene function, particularly in newly sequenced genomes where little is known about the organism.     \n",
        "\n",
        "**GC content**\n",
        "\n",
        " GC content is the percentage of guanine (G) and cytosine (C) bases in a DNA sequence compared to the total number of bases (A, T, G, and C). It is an important property in genetics and molecular biology because the G-C pairing is more stable than the A-T pairing due to an extra hydrogen bond (three bonds for G-C, two for A-T), which affects the DNA's structural stability and biological functions.\n",
        "\n",
        "Importance of GC Content in DNA Analysis:\n",
        " - DNA Stability and Structure: Regions with high GC content are generally more thermally stable than AT-rich regions due to the stronger G-C bonds. This stability influences the structure of DNA, particularly in organisms that live in extreme conditions, such as high temperatures or acidic environments, where high GC content provides additional stability to their genomes.\n",
        "\n",
        " - Gene Density and Functional Regions: GC content often correlates with gene density. In many organisms, GC-rich regions are associated with coding sequences, while AT-rich regions may contain non-coding sequences or repetitive elements. High GC content is often found in exons, making it useful for distinguishing coding regions from non-coding regions, especially in eukaryotic genomes.\n",
        "\n",
        " - Gene Expression and Regulation: GC content can influence gene expression levels. For example, promoter regions with high GC content, known as CpG islands, are associated with gene regulatory functions in many organisms, particularly in vertebrates. These CpG islands are typically found near the promoters of housekeeping genes and are often involved in epigenetic regulation, such as DNA methylation.\n",
        "\n",
        " - Taxonomy and Evolution: GC content is a distinctive characteristic of different species and can be used in taxonomy and evolutionary biology. Organisms tend to have relatively consistent GC content within their genomes, and comparing GC content across species can provide clues about evolutionary relationships. This is particularly helpful in distinguishing between closely related species or strains.\n",
        "\n",
        " - DNA Replication and Repair: High GC content can influence the replication and repair processes in DNA. GC-rich regions can form stable secondary structures that are more challenging for replication machinery to unwind, which may affect replication speed and efficiency. These structures are also more resistant to some forms of damage, such as UV radiation, which preferentially affects AT-rich sequences.\n",
        "\n",
        " - Adaptation to Environmental Conditions: Organisms that thrive in extreme environments, such as thermophilic bacteria, often have higher GC content to stabilize their genomes under challenging conditions. Similarly, organisms that live in high-salinity environments may have higher GC content in certain regions to maintain structural integrity. Studying GC content in such organisms provides insights into molecular adaptations.\n",
        "\n",
        " - Genetic and Epigenetic Studies: GC content is also important in epigenetic studies, especially in relation to DNA methylation. CpG islands (GC-rich regions) are targets for methylation, which is a form of gene regulation. Methylation patterns in these regions can lead to gene silencing, which is significant in cancer research, where abnormal methylation of CpG islands is linked to tumor suppressor gene inactivation.\n",
        "\n",
        " - Bioinformatics and Sequence Analysis: GC content can be a critical parameter in sequence analysis, genome assembly, and alignment processes. High GC content can sometimes lead to biases in sequencing due to differences in amplification efficiency, which bioinformatics algorithms need to correct. GC content also serves as a parameter in various predictive models and machine learning applications in bioinformatics.\n",
        "\n",
        "**Coding regions**\n",
        "Coding regions in DNA, also known as exons, are segments of a gene that contain the information required to synthesize proteins. These regions are \"translated\" into amino acids, which then fold into proteins that carry out various functions within the cell. Coding regions are critical parts of the genome because they represent the functional portions that directly influence an organism's traits and biological processes.\n",
        "\n",
        "Importance of Coding Regions in DNA Analysis\n",
        " - Protein Synthesis: Coding regions contain the instructions for building proteins, which are essential molecules for cellular structure, function, and regulation. Proteins perform numerous roles, including acting as enzymes, structural components, transport molecules, and signaling factors. Identifying and understanding coding regions allow scientists to connect specific genes to their protein products and functions.\n",
        "\n",
        " - Gene Function and Genetic Disorders: Variations or mutations in coding regions can lead to changes in protein structure or function, potentially causing genetic disorders or diseases. For instance, mutations in coding regions of genes like BRCA1 and BRCA2 increase the risk of breast cancer. Studying these regions helps researchers identify disease-causing mutations, which is essential for diagnostics, genetic counseling, and developing targeted treatments.\n",
        "\n",
        " - Drug Development and Targeted Therapy: Knowledge of coding regions enables the identification of specific proteins that are potential targets for drugs. For example, understanding coding mutations in cancer cells can lead to targeted therapies that inhibit malfunctioning proteins or restore their normal function, paving the way for personalized medicine.\n",
        "\n",
        " - Gene Expression Studies: Coding regions are central to studying gene expression, as they are the parts transcribed into mRNA and ultimately translated into proteins. Analyzing which coding regions are actively expressed in different tissues or under different conditions provides insights into cellular functions, tissue-specific expression patterns, and responses to environmental stimuli.\n",
        "\n",
        " - Evolutionary Studies and Comparative Genomics: Coding regions are often highly conserved across species due to their essential roles in protein synthesis. By comparing coding sequences, scientists can trace evolutionary relationships, identify conserved proteins, and study how genetic variation has contributed to adaptations. Such analyses also help in identifying genes that may perform similar functions across species.\n",
        "\n",
        " - Identification of Genetic Markers: Coding regions often contain single-nucleotide polymorphisms (SNPs) that serve as genetic markers for studying population genetics, ancestry, and genetic predisposition to certain traits or diseases. These markers are widely used in genetic research, including genome-wide association studies (GWAS), which link specific coding region variations with diseases.\n",
        "\n",
        " - Biotechnology and Genetic Engineering: Coding regions are crucial for genetic engineering and biotechnology applications, where genes are modified or introduced to produce desired proteins. For example, coding sequences from bacteria are used to produce insulin in genetically modified microorganisms. Identifying and isolating coding regions allow scientists to engineer organisms for drug production, agriculture, and environmental applications.\n",
        "\n",
        " - Epigenetics and Gene Regulation: Although coding regions themselves are responsible for protein synthesis, the regulation of these regions is equally important. Epigenetic modifications, like DNA methylation, can affect whether a coding region is expressed or silenced, influencing cellular function and gene expression patterns. Understanding these regulatory mechanisms in coding regions helps in studying gene expression control, developmental biology, and epigenetic disorders."
      ],
      "metadata": {
        "id": "9lu-EaLSM2sR"
      }
    },
    {
      "cell_type": "code",
      "execution_count": null,
      "metadata": {
        "id": "sQ4S9zfJMV0y"
      },
      "outputs": [],
      "source": [
        "import re\n"
      ]
    },
    {
      "cell_type": "code",
      "source": [
        "sequence=\"\""
      ],
      "metadata": {
        "id": "oEC1COt-p_tK"
      },
      "execution_count": null,
      "outputs": []
    },
    {
      "cell_type": "code",
      "source": [
        "with open(\"sequence.fasta\") as f:\n",
        "  lines = f.readlines()\n",
        "  sequence = \"\".join(line.strip() for line in lines[1:]).upper()"
      ],
      "metadata": {
        "id": "kWo6wzM6qBGf"
      },
      "execution_count": null,
      "outputs": []
    },
    {
      "cell_type": "code",
      "source": [
        "g_count = sequence.count('G')\n",
        "c_count=sequence.count('C')"
      ],
      "metadata": {
        "id": "vi6CbatCqYfE"
      },
      "execution_count": null,
      "outputs": []
    },
    {
      "cell_type": "code",
      "source": [
        "total = len(sequence)\n",
        "\n",
        "gcp=((g_count + c_count)/total)*100\n",
        "print(gcp)"
      ],
      "metadata": {
        "colab": {
          "base_uri": "https://localhost:8080/"
        },
        "id": "hFxFoHEerUTw",
        "outputId": "db1e66b0-8fd5-404d-8a57-7a41f02062b9"
      },
      "execution_count": null,
      "outputs": [
        {
          "output_type": "stream",
          "name": "stdout",
          "text": [
            "61.06170094496943\n"
          ]
        }
      ]
    },
    {
      "cell_type": "code",
      "source": [
        "print(f\"G count : {g_count}\")\n",
        "print(f\"C count : {c_count}\")\n",
        "print(f\"total count : {total}\")\n",
        "print(f\"GC percent : {gcp}\")"
      ],
      "metadata": {
        "colab": {
          "base_uri": "https://localhost:8080/"
        },
        "id": "sIt9mIvWrf-E",
        "outputId": "dcb42a25-0681-406f-e7f3-ba9df839077f"
      },
      "execution_count": null,
      "outputs": [
        {
          "output_type": "stream",
          "name": "stdout",
          "text": [
            "G count : 1130\n",
            "C count : 1067\n",
            "total count : 3598\n",
            "GC percent : 61.06170094496943\n"
          ]
        }
      ]
    },
    {
      "cell_type": "code",
      "source": [
        "a_count = sequence.count('A')\n",
        "t_count = sequence.count('T')\n"
      ],
      "metadata": {
        "id": "LCf2TPZyr1Qj"
      },
      "execution_count": null,
      "outputs": []
    },
    {
      "cell_type": "code",
      "source": [
        "ratio = ((a_count + t_count)/(g_count + c_count))"
      ],
      "metadata": {
        "id": "jk3MDZEnsDHw"
      },
      "execution_count": null,
      "outputs": []
    },
    {
      "cell_type": "code",
      "source": [
        "print(f\"AT/GC ratio : {ratio :.2f}\")"
      ],
      "metadata": {
        "colab": {
          "base_uri": "https://localhost:8080/"
        },
        "id": "ptrII52gsKms",
        "outputId": "27fa3820-55c9-4029-f245-ee0b4c002b05"
      },
      "execution_count": null,
      "outputs": [
        {
          "output_type": "stream",
          "name": "stdout",
          "text": [
            "AT/GC ratio : 0.64\n"
          ]
        }
      ]
    },
    {
      "cell_type": "code",
      "source": [
        "start_codon = 'ATG'\n",
        "stop_codon =['TAA','TAG', 'TGA']\n",
        "coding_reg=[]"
      ],
      "metadata": {
        "id": "q77ISwddsWX-"
      },
      "execution_count": null,
      "outputs": []
    },
    {
      "cell_type": "code",
      "source": [
        "start_idx = sequence.find(start_codon)\n",
        "#start=start_idx"
      ],
      "metadata": {
        "id": "D5buBQL3se-r"
      },
      "execution_count": null,
      "outputs": []
    },
    {
      "cell_type": "code",
      "source": [
        "print(start_idx)"
      ],
      "metadata": {
        "colab": {
          "base_uri": "https://localhost:8080/"
        },
        "id": "YsFIbR9CsjGJ",
        "outputId": "6f5596cf-22e8-489c-9850-a2db0888a823"
      },
      "execution_count": null,
      "outputs": [
        {
          "output_type": "stream",
          "name": "stdout",
          "text": [
            "73\n"
          ]
        }
      ]
    },
    {
      "cell_type": "markdown",
      "source": [
        "This code is designed to identify and extract coding regions (open reading frames, or ORFs) in a DNA sequence. An ORF starts with a start codon (usually \"ATG\") and ends with one of the stop codons (\"TAA,\" \"TAG,\" or \"TGA\"). The code performs the following steps:\n",
        "\n",
        "1. Initialize Variables:\n",
        "\n",
        "- start_codon = 'ATG': The start codon, where each ORF begins.\n",
        "- stop_codon = ['TAA', 'TAG', 'TGA']: List of possible stop codons where an ORF can end.\n",
        "- coding_reg = [  ]: List to store identified coding regions (ORFs).\n",
        "\n",
        "2. Find the First Start Codon:\n",
        "\n",
        "- start_idx = sequence.find(start_codon): Searches the DNA sequence for the first occurrence of the start codon \"ATG\" and stores its index in start_idx.\n",
        "- If \"ATG\" is not found, start_idx will be -1.\n",
        "Loop to Find Coding Regions:\n",
        "\n",
        "3. while start_idx != -1: Runs as long as a start codon is found in the sequence.\n",
        "\n",
        "- Inner Loop to Find Stop Codon:\n",
        "\n",
        "- for codon in stop_codon: Loops over each possible stop codon in stop_codon.\n",
        "\n",
        "- stop_idx = sequence.find(codon, start_idx + 3): Searches for the stop codon starting from start_idx + 3 (the next codon after the start codon). This prevents detecting a stop codon within the start codon itself.\n",
        "\n",
        "- Check Valid Stop Codon:\n",
        "\n",
        "- if stop_idx != -1 and (stop_idx - start_idx) % 3 == 0: Ensures that:\n",
        "A stop codon is found (stop_idx != -1).\n",
        "- The distance between the start and stop codons is a multiple of 3, making the region a valid coding region - multiple of 3 nucleotides, which is essential because proteins are synthesized based on groups of three nucleotides, called codons. Each codon corresponds to a specific amino acid in the resulting protein sequence.\n",
        "- If both conditions are met, the region from the start codon to the stop codon (inclusive) is stored in coding_reg.\n",
        "- Store the Coding Region:\n",
        "\n",
        "- reg = sequence[start_idx : stop_idx + 3]: Slices the sequence to get the coding region from start_idx to stop_idx + 3.\n",
        "- coding_reg.append(reg): Adds this coding region to the coding_reg list.\n",
        "- break: Breaks out of the stop codon loop once a valid stop codon is found.\n",
        "- Update start_idx:\n",
        "\n",
        "- start_idx = sequence.find(start_codon, start_idx + 1): Finds the next occurrence of the start codon after the current start_idx, continuing the search for additional coding regions.\n",
        "- Output the Results:\n",
        "\n",
        "- if coding_reg: Checks if any coding regions were found.\n",
        "- Print Each Coding Region:\n",
        "- for i, coding_reg in enumerate(coding_reg, start=1): Iterates over each coding region, printing the region number, sequence, and length.\n",
        "- else: If no coding regions were found, prints \"No coding regions found.\""
      ],
      "metadata": {
        "id": "TxERRuJkvS-D"
      }
    },
    {
      "cell_type": "code",
      "source": [
        "while start_idx!=-1:\n",
        "  for codon in stop_codon:\n",
        "    stop_idx=sequence.find(codon, start_idx+3)\n",
        "    if stop_idx!=-1 and (stop_idx - start_idx)%3 == 0:\n",
        "      reg=sequence[start_idx : stop_idx+3]\n",
        "      coding_reg.append(reg)\n",
        "      break\n",
        "  start_idx = sequence.find(start_codon, start_idx+1)\n",
        "if coding_reg:\n",
        "  print(\"Coding regions found\")\n",
        "  for i, reg in enumerate(coding_reg, start=1):\n",
        "    print(f\"\\nRegion {i} : {reg} \\n Length : {len(reg)}\")\n",
        "else:\n",
        "  print(\"No coding regions found\")"
      ],
      "metadata": {
        "colab": {
          "base_uri": "https://localhost:8080/"
        },
        "id": "9M3NIaIFskjm",
        "outputId": "e076cfe2-abb0-43eb-b0d6-6369b2aa8930"
      },
      "execution_count": null,
      "outputs": [
        {
          "output_type": "stream",
          "name": "stdout",
          "text": [
            "Coding regions found\n",
            "\n",
            "Region 1 : ATGAGCTCAGGGGCCTCTAGAAAGAGCTGGGACCCTGGGAACCCCTGGCCTCCAGGTAGTCTCAGGAGAGCTACTCGGGGTCGGGCTTGGGGAGAGGAGGAGCGGGGGTGAGGCAAGCAGCAGGGGACTGGACCTGGGAAGGGCTGGGCAGCAGAGACGACCCGACCCGCTAGAAGGTGGGGTGGGGAGAGCAGCTGGACTGGGATGTAA \n",
            " Length : 210\n",
            "\n",
            "Region 2 : ATGTAA \n",
            " Length : 6\n",
            "\n",
            "Region 3 : ATGGAACACGGCGCTTAA \n",
            " Length : 18\n",
            "\n",
            "Region 4 : ATGTGAAGGGAGAATGAGGAATGCGAGACTGGGACTGAGATGGAACCGGCGGTGGGGAGGGGGTGGGGGGATGGAATTTGAACCCCGGGAGAGGAAGATGGAATTTTCTATGGAGGCCGACCTGGGGATGGGGAGATAAGAGAAGACCAGGAGGGAGTTAAATAG \n",
            " Length : 165\n",
            "\n",
            "Region 5 : ATGAGGAATGCGAGACTGGGACTGAGATGGAACCGGCGGTGGGGAGGGGGTGGGGGGATGGAATTTGAACCCCGGGAGAGGAAGATGGAATTTTCTATGGAGGCCGACCTGGGGATGGGGAGATAA \n",
            " Length : 126\n",
            "\n",
            "Region 6 : ATGCGAGACTGGGACTGA \n",
            " Length : 18\n",
            "\n",
            "Region 7 : ATGGAACCGGCGGTGGGGAGGGGGTGGGGGGATGGAATTTGAACCCCGGGAGAGGAAGATGGAATTTTCTATGGAGGCCGACCTGGGGATGGGGAGATAAGAGAAGACCAGGAGGGAGTTAAATAG \n",
            " Length : 126\n",
            "\n",
            "Region 8 : ATGGAATTTGAACCCCGGGAGAGGAAGATGGAATTTTCTATGGAGGCCGACCTGGGGATGGGGAGATAA \n",
            " Length : 69\n",
            "\n",
            "Region 9 : ATGGAATTTTCTATGGAGGCCGACCTGGGGATGGGGAGATAA \n",
            " Length : 42\n",
            "\n",
            "Region 10 : ATGGAGGCCGACCTGGGGATGGGGAGATAA \n",
            " Length : 30\n",
            "\n",
            "Region 11 : ATGGGGAGATAA \n",
            " Length : 12\n",
            "\n",
            "Region 12 : ATGTGCTGGGATTAG \n",
            " Length : 15\n",
            "\n",
            "Region 13 : ATGCAACAAGGCTTGGAAGGCTAA \n",
            " Length : 24\n",
            "\n",
            "Region 14 : ATGAAGGTTCTGTGGGCTGCGTTGCTGGTCACATTCCTGGCAGGTATGGGGGCGGGGCTTGCTCGGTTCCCCCCGCTCCTCCCCCTCTCATCCTCACCTCAACCTCCTGGCCCCATTCAGGCAGACCCTGGGCCCCCTCTTCTGAGGCTTCTGTGCTGCTTCCTGGCTCTGAACAGCGATTTGACGCTCTCTGGGCCTCGGTTTCCCCCATCCTTGAGATAGGAGTTAGAAGTTGTTTTGTTGTTGTTGTTTGTTGTTGTTGTTTTGTTTTTTTGAGATGAAGTCTCGCTCTGTCGCCCAGGCTGGAGTGCAGTGGCGGGATCTCGGCTCACTGCAAGCTCCGCCTCCCAGGTCCACGCCATTCTCCTGCCTCAGCCTCCCAAGTAGCTGGGACTACAGGCACATGCCACCACACCCGACTAA \n",
            " Length : 423\n",
            "\n",
            "Region 15 : ATGGGGGCGGGGCTTGCTCGGTTCCCCCCGCTCCTCCCCCTCTCATCCTCACCTCAACCTCCTGGCCCCATTCAGGCAGACCCTGGGCCCCCTCTTCTGAGGCTTCTGTGCTGCTTCCTGGCTCTGAACAGCGATTTGACGCTCTCTGGGCCTCGGTTTCCCCCATCCTTGAGATAGGAGTTAGAAGTTGTTTTGTTGTTGTTGTTTGTTGTTGTTGTTTTGTTTTTTTGAGATGAAGTCTCGCTCTGTCGCCCAGGCTGGAGTGCAGTGGCGGGATCTCGGCTCACTGCAAGCTCCGCCTCCCAGGTCCACGCCATTCTCCTGCCTCAGCCTCCCAAGTAGCTGGGACTACAGGCACATGCCACCACACCCGACTAA \n",
            " Length : 378\n",
            "\n",
            "Region 16 : ATGTTGGCCAGGCTGGTCTGGAACTCCTGA \n",
            " Length : 30\n",
            "\n",
            "Region 17 : ATGCTTTTCCGCTGGGCGCGGTGGCTCACCCCTGTAATCCCAGCACTTTGGGAGGCCAAGGTGGGAGGATCACTTGAGCCCAGGAGTTCAACACCAGCCTGGGCAACATAG \n",
            " Length : 111\n",
            "\n",
            "Region 18 : ATGGTGCCACACACCTGTGCTCTCAGCTACTCAGGAGGCTGA \n",
            " Length : 42\n",
            "\n",
            "Region 19 : ATGTTCAGGCCGCTGCACTCCAGCCTGGGTGACAGAGCAAGACCCTGTTTATAA \n",
            " Length : 54\n",
            "\n",
            "Region 20 : ATGCTTTCCAAGTGA \n",
            " Length : 15\n",
            "\n",
            "Region 21 : ATGCCTGGACGGGGTCAGAAGGACCCTGACCCACCTTGAACTTGTTCCACACAGGATGCCAGGCCAAGGTGGAGCAAGCGGTGGAGACAGAGCCGGAGCCCGAGCTGCGCCAGCAGACCGAGTGGCAGAGCGGCCAGCGCTGGGAACTGGCACTGGGTCGCTTTTGGGATTACCTGCGCTGGGTGCAGACACTGTCTGAGCAGGTGCAGGAGGAGCTGCTCAGCTCCCAGGTCACCCAGGAACTGAGGTGAGTGTCCCCATCCTGGCCCTTGACCCTCCTGGTGGGCGGCTATACCTCCCCAGGTCCAGGTTTCATTCTGCCCCTGTCGCTAA \n",
            " Length : 333\n",
            "\n",
            "Region 22 : ATGCCAGGCCAAGGTGGAGCAAGCGGTGGAGACAGAGCCGGAGCCCGAGCTGCGCCAGCAGACCGAGTGGCAGAGCGGCCAGCGCTGGGAACTGGCACTGGGTCGCTTTTGGGATTACCTGCGCTGGGTGCAGACACTGTCTGA \n",
            " Length : 144\n",
            "\n",
            "Region 23 : ATGAGCCACCTTGCCCGGCCTCCTAGCTCCTTCTTCGTCTCTGCCTCTGCCCTCTGCATCTGCTCTCTGCATCTGTCTCTGTCTCCTTCTCTCGGCCTCTGCCCCGTTCCTTCTCTCCCTCTTGGGTCTCTCTGGCTCATCCCCATCTCGCCCGCCCCATCCCAGCCCTTCTCCCCGCCTCCCACTGTGCGACACCCTCCCGCCCTCTCGGCCGCAGGGCGCTGA \n",
            " Length : 225\n",
            "\n",
            "Region 24 : ATGGACGAGACCATGAAGGAGTTGAAGGCCTACAAATCGGAACTGGAGGAACAACTGACCCCGGTGGCGGAGGAGACGCGGGCACGGCTGTCCAAGGAGCTGCAGGCGGCGCAGGCCCGGCTGGGCGCGGACATGGAGGACGTGTGCGGCCGCCTGGTGCAGTACCGCGGCGAGGTGCAGGCCATGCTCGGCCAGAGCACCGAGGAGCTGCGGGTGCGCCTCGCCTCCCACCTGCGCAAGCTGCGTAAGCGGCTCCTCCGCGATGCCGATGACCTGCAGAAGCGCCTGGCAGTGTACCAGGCCGGGGCCCGCGAGGGCGCCGAGCGCGGCCTCAGCGCCATCCGCGAGCGCCTGGGGCCCCTGGTGGAACAGGGCCGCGTGCGGGCCGCCACTGTGGGCTCCCTGGCCGGCCAGCCGCTACAGGAGCGGGCCCAGGCCTGGGGCGAGCGGCTGCGCGCGCGGATGGAGGAGATGGGCAGCCGGACCCGCGACCGCCTGGACGAGGTGAAGGAGCAGGTGGCGGAGGTGCGCGCCAAGCTGGAGGAGCAGGCCCAGCAGATACGCCTGCAGGCCGAGGCCTTCCAGGCCCGCCTCAAGAGCTGGTTCGAGCCCCTGGTGGAAGACATGCAGCGCCAGTGGGCCGGGCTGGTGGAGAAGGTGCAGGCTGCCGTGGGCACCAGCGCCGCCCCTGTGCCCAGCGACAATCACTGAACGCCGAAGCCTGCAGCCATGCGACCCCACGCCACCCCGTGCCTCCTGCCTCCGCGCAGCCTGCAGCGGGAGACCCTGTCCCCGCCCCAGCCGTCCTCCTGGGGTGGACCCTAG \n",
            " Length : 825\n",
            "\n",
            "Region 25 : ATGAAGGAGTTGAAGGCCTACAAATCGGAACTGGAGGAACAACTGACCCCGGTGGCGGAGGAGACGCGGGCACGGCTGTCCAAGGAGCTGCAGGCGGCGCAGGCCCGGCTGGGCGCGGACATGGAGGACGTGTGCGGCCGCCTGGTGCAGTACCGCGGCGAGGTGCAGGCCATGCTCGGCCAGAGCACCGAGGAGCTGCGGGTGCGCCTCGCCTCCCACCTGCGCAAGCTGCGTAAGCGGCTCCTCCGCGATGCCGATGACCTGCAGAAGCGCCTGGCAGTGTACCAGGCCGGGGCCCGCGAGGGCGCCGAGCGCGGCCTCAGCGCCATCCGCGAGCGCCTGGGGCCCCTGGTGGAACAGGGCCGCGTGCGGGCCGCCACTGTGGGCTCCCTGGCCGGCCAGCCGCTACAGGAGCGGGCCCAGGCCTGGGGCGAGCGGCTGCGCGCGCGGATGGAGGAGATGGGCAGCCGGACCCGCGACCGCCTGGACGAGGTGAAGGAGCAGGTGGCGGAGGTGCGCGCCAAGCTGGAGGAGCAGGCCCAGCAGATACGCCTGCAGGCCGAGGCCTTCCAGGCCCGCCTCAAGAGCTGGTTCGAGCCCCTGGTGGAAGACATGCAGCGCCAGTGGGCCGGGCTGGTGGAGAAGGTGCAGGCTGCCGTGGGCACCAGCGCCGCCCCTGTGCCCAGCGACAATCACTGAACGCCGAAGCCTGCAGCCATGCGACCCCACGCCACCCCGTGCCTCCTGCCTCCGCGCAGCCTGCAGCGGGAGACCCTGTCCCCGCCCCAGCCGTCCTCCTGGGGTGGACCCTAG \n",
            " Length : 813\n",
            "\n",
            "Region 26 : ATGGAGGACGTGTGCGGCCGCCTGGTGCAGTACCGCGGCGAGGTGCAGGCCATGCTCGGCCAGAGCACCGAGGAGCTGCGGGTGCGCCTCGCCTCCCACCTGCGCAAGCTGCGTAAGCGGCTCCTCCGCGATGCCGATGACCTGCAGAAGCGCCTGGCAGTGTACCAGGCCGGGGCCCGCGAGGGCGCCGAGCGCGGCCTCAGCGCCATCCGCGAGCGCCTGGGGCCCCTGGTGGAACAGGGCCGCGTGCGGGCCGCCACTGTGGGCTCCCTGGCCGGCCAGCCGCTACAGGAGCGGGCCCAGGCCTGGGGCGAGCGGCTGCGCGCGCGGATGGAGGAGATGGGCAGCCGGACCCGCGACCGCCTGGACGAGGTGAAGGAGCAGGTGGCGGAGGTGCGCGCCAAGCTGGAGGAGCAGGCCCAGCAGATACGCCTGCAGGCCGAGGCCTTCCAGGCCCGCCTCAAGAGCTGGTTCGAGCCCCTGGTGGAAGACATGCAGCGCCAGTGGGCCGGGCTGGTGGAGAAGGTGCAGGCTGCCGTGGGCACCAGCGCCGCCCCTGTGCCCAGCGACAATCACTGAACGCCGAAGCCTGCAGCCATGCGACCCCACGCCACCCCGTGCCTCCTGCCTCCGCGCAGCCTGCAGCGGGAGACCCTGTCCCCGCCCCAGCCGTCCTCCTGGGGTGGACCCTAG \n",
            " Length : 693\n",
            "\n",
            "Region 27 : ATGCTCGGCCAGAGCACCGAGGAGCTGCGGGTGCGCCTCGCCTCCCACCTGCGCAAGCTGCGTAAGCGGCTCCTCCGCGATGCCGATGACCTGCAGAAGCGCCTGGCAGTGTACCAGGCCGGGGCCCGCGAGGGCGCCGAGCGCGGCCTCAGCGCCATCCGCGAGCGCCTGGGGCCCCTGGTGGAACAGGGCCGCGTGCGGGCCGCCACTGTGGGCTCCCTGGCCGGCCAGCCGCTACAGGAGCGGGCCCAGGCCTGGGGCGAGCGGCTGCGCGCGCGGATGGAGGAGATGGGCAGCCGGACCCGCGACCGCCTGGACGAGGTGAAGGAGCAGGTGGCGGAGGTGCGCGCCAAGCTGGAGGAGCAGGCCCAGCAGATACGCCTGCAGGCCGAGGCCTTCCAGGCCCGCCTCAAGAGCTGGTTCGAGCCCCTGGTGGAAGACATGCAGCGCCAGTGGGCCGGGCTGGTGGAGAAGGTGCAGGCTGCCGTGGGCACCAGCGCCGCCCCTGTGCCCAGCGACAATCACTGAACGCCGAAGCCTGCAGCCATGCGACCCCACGCCACCCCGTGCCTCCTGCCTCCGCGCAGCCTGCAGCGGGAGACCCTGTCCCCGCCCCAGCCGTCCTCCTGGGGTGGACCCTAG \n",
            " Length : 642\n",
            "\n",
            "Region 28 : ATGACCTGCAGAAGCGCCTGGCAGTGTACCAGGCCGGGGCCCGCGAGGGCGCCGAGCGCGGCCTCAGCGCCATCCGCGAGCGCCTGGGGCCCCTGGTGGAACAGGGCCGCGTGCGGGCCGCCACTGTGGGCTCCCTGGCCGGCCAGCCGCTACAGGAGCGGGCCCAGGCCTGGGGCGAGCGGCTGCGCGCGCGGATGGAGGAGATGGGCAGCCGGACCCGCGACCGCCTGGACGAGGTGA \n",
            " Length : 240\n",
            "\n",
            "Region 29 : ATGGAGGAGATGGGCAGCCGGACCCGCGACCGCCTGGACGAGGTGAAGGAGCAGGTGGCGGAGGTGCGCGCCAAGCTGGAGGAGCAGGCCCAGCAGATACGCCTGCAGGCCGAGGCCTTCCAGGCCCGCCTCAAGAGCTGGTTCGAGCCCCTGGTGGAAGACATGCAGCGCCAGTGGGCCGGGCTGGTGGAGAAGGTGCAGGCTGCCGTGGGCACCAGCGCCGCCCCTGTGCCCAGCGACAATCACTGAACGCCGAAGCCTGCAGCCATGCGACCCCACGCCACCCCGTGCCTCCTGCCTCCGCGCAGCCTGCAGCGGGAGACCCTGTCCCCGCCCCAGCCGTCCTCCTGGGGTGGACCCTAG \n",
            " Length : 363\n",
            "\n",
            "Region 30 : ATGGGCAGCCGGACCCGCGACCGCCTGGACGAGGTGAAGGAGCAGGTGGCGGAGGTGCGCGCCAAGCTGGAGGAGCAGGCCCAGCAGATACGCCTGCAGGCCGAGGCCTTCCAGGCCCGCCTCAAGAGCTGGTTCGAGCCCCTGGTGGAAGACATGCAGCGCCAGTGGGCCGGGCTGGTGGAGAAGGTGCAGGCTGCCGTGGGCACCAGCGCCGCCCCTGTGCCCAGCGACAATCACTGAACGCCGAAGCCTGCAGCCATGCGACCCCACGCCACCCCGTGCCTCCTGCCTCCGCGCAGCCTGCAGCGGGAGACCCTGTCCCCGCCCCAGCCGTCCTCCTGGGGTGGACCCTAG \n",
            " Length : 354\n",
            "\n",
            "Region 31 : ATGCAGCGCCAGTGGGCCGGGCTGGTGGAGAAGGTGCAGGCTGCCGTGGGCACCAGCGCCGCCCCTGTGCCCAGCGACAATCACTGAACGCCGAAGCCTGCAGCCATGCGACCCCACGCCACCCCGTGCCTCCTGCCTCCGCGCAGCCTGCAGCGGGAGACCCTGTCCCCGCCCCAGCCGTCCTCCTGGGGTGGACCCTAG \n",
            " Length : 201\n",
            "\n",
            "Region 32 : ATGCGACCCCACGCCACCCCGTGCCTCCTGCCTCCGCGCAGCCTGCAGCGGGAGACCCTGTCCCCGCCCCAGCCGTCCTCCTGGGGTGGACCCTAG \n",
            " Length : 96\n"
          ]
        }
      ]
    },
    {
      "cell_type": "code",
      "source": [
        "import re\n",
        "def motif_calc(sequence, motif):\n",
        "  print(f\"\\n\\n Searching for motif: {motif}\")\n",
        "  matches = [match.start() for match in re.finditer(motif,sequence)]\n",
        "  if matches:\n",
        "    print(f\"Motif '{motif}' found at positions : {matches}\")\n",
        "  else:\n",
        "    print(\"Not found\")"
      ],
      "metadata": {
        "id": "eT26Q-xL2TwH"
      },
      "execution_count": null,
      "outputs": []
    },
    {
      "cell_type": "markdown",
      "source": [
        "We use regular expressions to find all starting positions of the motif within the sequence and displays these positions if found.\n",
        "\n",
        "**matches = [match.start() for match in re.finditer(motif, sequence)]**\n",
        "\n",
        "This line uses a list comprehension and the **re.finditer()** function from Python's re (regular expressions) module:\n",
        "- re.finditer(motif, sequence) finds all non-overlapping matches of motif in sequence.\n",
        "- Each match object contains information about the matched substring, including its start position.\n",
        "- match.start() retrieves the starting index of each match.\n",
        "- The result is a list, matches, containing all starting positions of the motif within the sequence."
      ],
      "metadata": {
        "id": "RUEqgO9234xJ"
      }
    },
    {
      "cell_type": "code",
      "source": [
        "motif = \"ATAAT\"\n",
        "motif_calc(sequence, motif)"
      ],
      "metadata": {
        "colab": {
          "base_uri": "https://localhost:8080/"
        },
        "id": "73HDsRPo3cFB",
        "outputId": "533a0d59-892c-4c50-bf16-38a213ceecf6"
      },
      "execution_count": null,
      "outputs": [
        {
          "output_type": "stream",
          "name": "stdout",
          "text": [
            "\n",
            "\n",
            " Searching for motif: ATAAT\n",
            "Motif 'ATAAT' found at positions : [696, 1808]\n"
          ]
        }
      ]
    },
    {
      "cell_type": "markdown",
      "source": [
        "---------------------------\n",
        "while start_idx!=-1:\n",
        "\n",
        "  for codons in stop_codons:\n",
        "\n",
        "    stop_idx=sequence.find(codons, start_idx+3)\n",
        "\n",
        "    if stop_idx!=-1 and (stop_idx-start_idx)%3==0:\n",
        "\n",
        "      reg=sequence[start_idx : stop_idx+3]\n",
        "\n",
        "      coding_reg.append(reg)\n",
        "\n",
        "      break\n",
        "\n",
        "  start_idx=sequence.find(start_codon, start_idx+1)\n",
        "\n",
        "\n",
        "if coding_reg:\n",
        "\n",
        "  print(\"found\")\n",
        "\n",
        "  for i,reg in enumerate(coding_reg, start=1):\n",
        "\n",
        "    print(f\"Region {i} : {reg} \\nLength : {len(reg)} \\n\")\n",
        "\n",
        "else:\n",
        "\n",
        "  print(\"Not found\")\n",
        "\n",
        "\n",
        "def find_motifs(sequence, motifs):\n",
        "\n",
        "  matches=[ match.start() for match in re.finditer(sequence,motif) ]\n",
        "\n",
        "  print(\"Matches : {matches}\")\n",
        "\n",
        "------------------------------\n",
        "\n"
      ],
      "metadata": {
        "id": "wegBum0W4hMI"
      }
    },
    {
      "cell_type": "code",
      "source": [],
      "metadata": {
        "id": "euXQG_SU3iH9"
      },
      "execution_count": null,
      "outputs": []
    }
  ]
}