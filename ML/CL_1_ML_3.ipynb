{
  "nbformat": 4,
  "nbformat_minor": 0,
  "metadata": {
    "colab": {
      "provenance": []
    },
    "kernelspec": {
      "name": "python3",
      "display_name": "Python 3"
    },
    "language_info": {
      "name": "python"
    }
  },
  "cells": [
    {
      "cell_type": "markdown",
      "source": [
        "# **Classification Analysis**\n"
      ],
      "metadata": {
        "id": "gQEJyICqI7XN"
      }
    },
    {
      "cell_type": "markdown",
      "source": [
        "## **A. Implementation of Support Vector Machines (SVM) for classifying images of hand-written digits into their respective numerical classes (0 to 9).**\n",
        "\n",
        "---"
      ],
      "metadata": {
        "id": "ClZ-7ftdI8Fl"
      }
    },
    {
      "cell_type": "markdown",
      "source": [
        "### Step 1: Understanding the Problem and Dataset\n",
        "Before diving into any implementation, it's essential to understand the dataset and problem scope.\n",
        "\n",
        "**_Dataset:_** We'll use the popular Digits dataset from sklearn, which contains images of digits (0 to 9) represented as 8x8 pixel arrays.\n",
        "\n",
        "**_Goal:_** The aim is to classify each image into one of the 10 digit classes (0-9) using SVM.\n",
        "\n",
        "**_Why SVM?_**\n",
        "\n",
        "Support Vector Machines are powerful for classification problems, especially when dealing with high-dimensional data (like pixel data in images). SVM tries to find the best decision boundary (hyperplane) that separates the classes.\n",
        "\n",
        "---"
      ],
      "metadata": {
        "id": "Jb0oAAA1KNAR"
      }
    },
    {
      "cell_type": "markdown",
      "source": [
        "### Step 2: Data Exploration\n",
        "We will load the dataset, explore its shape, check the images and their corresponding labels, and get an understanding of how many classes and samples we are dealing with.\n",
        "\n",
        "---"
      ],
      "metadata": {
        "id": "7aOCMk3WdP34"
      }
    },
    {
      "cell_type": "code",
      "source": [
        "from sklearn import datasets\n",
        "import matplotlib.pyplot as plt\n",
        "\n",
        "# Load the digits dataset\n",
        "digits = datasets.load_digits()\n",
        "\n",
        "# Inspect the dataset\n",
        "print(f\"Dataset shape: {digits.images.shape}\")\n",
        "print(f\"Number of samples: {len(digits.images)}\")\n",
        "print(f\"Number of features per sample: {digits.data.shape[1]}\")\n",
        "print(f\"Target labels (digits): {set(digits.target)}\")\n",
        "\n",
        "# Display a few images with their labels\n",
        "fig, axes = plt.subplots(1, 5, figsize=(10, 3))\n",
        "for i, ax in enumerate(axes):\n",
        "    ax.imshow(digits.images[i], cmap='gray')\n",
        "    ax.set_title(f\"Label: {digits.target[i]}\")\n",
        "plt.show()\n"
      ],
      "metadata": {
        "colab": {
          "base_uri": "https://localhost:8080/",
          "height": 285
        },
        "id": "7E8JZbl5MolU",
        "outputId": "5172fcfb-1b16-4d8a-c785-8760be6f4fa2"
      },
      "execution_count": null,
      "outputs": [
        {
          "output_type": "stream",
          "name": "stdout",
          "text": [
            "Dataset shape: (1797, 8, 8)\n",
            "Number of samples: 1797\n",
            "Number of features per sample: 64\n",
            "Target labels (digits): {0, 1, 2, 3, 4, 5, 6, 7, 8, 9}\n"
          ]
        },
        {
          "output_type": "display_data",
          "data": {
            "text/plain": [
              "<Figure size 1000x300 with 5 Axes>"
            ],
            "image/png": "[encoded data removed]"
          },
          "metadata": {}
        }
      ]
    },
    {
      "cell_type": "markdown",
      "source": [
        "---\n",
        "\n",
        "**Key Observations:**\n",
        "\n",
        "- The dataset contains 1,797 samples of digit images, each of size 8x8 pixels (64 features).\n",
        "- Each image is labeled with one of 10 possible digit labels (0-9).\n",
        "- Each pixel has an intensity value (ranging from 0 to 16, representing grayscale intensity).\n",
        "\n",
        "---"
      ],
      "metadata": {
        "id": "e3BLMC-SeCDM"
      }
    },
    {
      "cell_type": "markdown",
      "source": [
        "### Step 3: Data Preprocessing\n",
        "\n",
        "Since the pixel intensity values range from 0 to 16, we need to normalize the features (pixel values) to bring them into a range that is more suitable for SVM (commonly between 0 and 1).\n",
        "\n",
        "We'll also split the data into training and testing sets for model evaluation.\n",
        "\n",
        "---"
      ],
      "metadata": {
        "id": "ybvc-9EGKOgk"
      }
    },
    {
      "cell_type": "code",
      "source": [
        "from sklearn.model_selection import train_test_split\n",
        "from sklearn.preprocessing import StandardScaler\n",
        "\n",
        "# Flatten the images for input to the SVM model\n",
        "X = digits.data  # Shape: (1797, 64) - each sample has 64 pixel features\n",
        "y = digits.target  # Shape: (1797,) - target labels (digits 0-9)\n",
        "\n",
        "# Normalize the pixel values to a range of 0 to 1\n",
        "scaler = StandardScaler()\n",
        "X_scaled = scaler.fit_transform(X)\n",
        "\n",
        "# Split the dataset into 75% training and 25% testing\n",
        "X_train, X_test, y_train, y_test = train_test_split(X_scaled, y, test_size=0.25, random_state=42)\n",
        "\n",
        "# Check the shapes of the train and test sets\n",
        "print(f\"Training set shape: {X_train.shape}\")\n",
        "print(f\"Test set shape: {X_test.shape}\")\n"
      ],
      "metadata": {
        "id": "Od9BGH3RMpVt",
        "colab": {
          "base_uri": "https://localhost:8080/"
        },
        "outputId": "6b174fa5-e22d-428b-fa73-88fb0cb56bb5"
      },
      "execution_count": null,
      "outputs": [
        {
          "output_type": "stream",
          "name": "stdout",
          "text": [
            "Training set shape: (1347, 64)\n",
            "Test set shape: (450, 64)\n"
          ]
        }
      ]
    },
    {
      "cell_type": "markdown",
      "source": [
        "---\n",
        "\n",
        "**Why Standardize the Pixel Values?**\n",
        "\n",
        "SVMs are sensitive to the scale of the input data. By normalizing pixel values, we ensure that all pixels contribute equally to the decision boundary and prevent large values from dominating the model's performance.\n",
        "\n",
        "---"
      ],
      "metadata": {
        "id": "UncJXgNEepbE"
      }
    },
    {
      "cell_type": "markdown",
      "source": [
        "### Step 4: Choosing the SVM Kernel\n",
        "The SVM algorithm allows us to use different kernels for mapping non-linear relationships in data:\n",
        "\n",
        "**Linear Kernel:** Used when the data is linearly separable.\n",
        "\n",
        "**RBF (Radial Basis Function) Kernel:** Works well for non-linear data by adding a Gaussian transformation to the data points.\n",
        "\n",
        "We'll experiment with both linear and RBF kernels and see which one performs better on this dataset.\n",
        "\n",
        "**Why Start with Linear Kernel?**\n",
        "\n",
        "Since our data has relatively high dimensionality (64 features), linear SVM can be a good first option. If we notice that the linear model is underperforming, we'll try a more flexible non-linear kernel.\n",
        "\n",
        "---"
      ],
      "metadata": {
        "id": "vRAOz300KOdv"
      }
    },
    {
      "cell_type": "code",
      "source": [
        "from sklearn.svm import SVC\n",
        "from sklearn.metrics import classification_report, accuracy_score\n",
        "\n",
        "# Train the SVM model with a linear kernel\n",
        "svm_linear = SVC(kernel='linear', random_state=42)\n",
        "svm_linear.fit(X_train, y_train)\n",
        "\n",
        "# Make predictions\n",
        "y_pred_linear = svm_linear.predict(X_test)\n",
        "\n",
        "# Evaluate the model performance\n",
        "print(\"\\nLinear Kernel SVM Performance:\")\n",
        "print(f\"Accuracy: {accuracy_score(y_test, y_pred_linear) * 100:.2f}%\")\n",
        "print(classification_report(y_test, y_pred_linear))\n"
      ],
      "metadata": {
        "id": "b2m0qr8hMp8T",
        "colab": {
          "base_uri": "https://localhost:8080/"
        },
        "outputId": "bb6505d8-f2ab-496b-e0f8-3886fb1198ee"
      },
      "execution_count": null,
      "outputs": [
        {
          "output_type": "stream",
          "name": "stdout",
          "text": [
            "\n",
            "Linear Kernel SVM Performance:\n",
            "Accuracy: 97.78%\n",
            "              precision    recall  f1-score   support\n",
            "\n",
            "           0       0.98      1.00      0.99        43\n",
            "           1       0.97      1.00      0.99        37\n",
            "           2       0.97      1.00      0.99        38\n",
            "           3       0.96      0.96      0.96        46\n",
            "           4       1.00      1.00      1.00        55\n",
            "           5       0.97      0.97      0.97        59\n",
            "           6       0.98      0.98      0.98        45\n",
            "           7       0.98      0.98      0.98        41\n",
            "           8       1.00      0.95      0.97        38\n",
            "           9       0.98      0.96      0.97        48\n",
            "\n",
            "    accuracy                           0.98       450\n",
            "   macro avg       0.98      0.98      0.98       450\n",
            "weighted avg       0.98      0.98      0.98       450\n",
            "\n"
          ]
        }
      ]
    },
    {
      "cell_type": "markdown",
      "source": [
        "### Step 5: Non-Linear SVM with RBF Kernel\n",
        "Now, let’s switch to the RBF Kernel to account for potential non-linear relationships between the pixel values and digit labels.\n",
        "\n",
        "---"
      ],
      "metadata": {
        "id": "MO6Rr0BmKOjF"
      }
    },
    {
      "cell_type": "code",
      "execution_count": null,
      "metadata": {
        "id": "qAgAfMcvIy4-",
        "colab": {
          "base_uri": "https://localhost:8080/"
        },
        "outputId": "72016c6e-b3a7-4fec-9f99-8fa853cfe6f3"
      },
      "outputs": [
        {
          "output_type": "stream",
          "name": "stdout",
          "text": [
            "\n",
            "RBF Kernel SVM Performance:\n",
            "Accuracy: 98.44%\n",
            "              precision    recall  f1-score   support\n",
            "\n",
            "           0       1.00      1.00      1.00        43\n",
            "           1       1.00      1.00      1.00        37\n",
            "           2       0.97      1.00      0.99        38\n",
            "           3       1.00      0.96      0.98        46\n",
            "           4       1.00      1.00      1.00        55\n",
            "           5       0.97      1.00      0.98        59\n",
            "           6       0.98      1.00      0.99        45\n",
            "           7       1.00      0.98      0.99        41\n",
            "           8       0.95      0.97      0.96        38\n",
            "           9       0.98      0.94      0.96        48\n",
            "\n",
            "    accuracy                           0.98       450\n",
            "   macro avg       0.98      0.98      0.98       450\n",
            "weighted avg       0.98      0.98      0.98       450\n",
            "\n"
          ]
        }
      ],
      "source": [
        "# Train the SVM model with an RBF kernel\n",
        "svm_rbf = SVC(kernel='rbf', gamma='auto', random_state=42)\n",
        "svm_rbf.fit(X_train, y_train)\n",
        "\n",
        "# Make predictions\n",
        "y_pred_rbf = svm_rbf.predict(X_test)\n",
        "\n",
        "# Evaluate the model performance\n",
        "print(\"\\nRBF Kernel SVM Performance:\")\n",
        "print(f\"Accuracy: {accuracy_score(y_test, y_pred_rbf) * 100:.2f}%\")\n",
        "print(classification_report(y_test, y_pred_rbf))\n"
      ]
    },
    {
      "cell_type": "markdown",
      "source": [
        "---\n",
        "\n",
        "**Why Use the RBF Kernel?**\n",
        "\n",
        "The RBF kernel maps the input space into a higher-dimensional feature space, where it is easier to find a linear separation between the classes. This is useful for data that isn't linearly separable.\n",
        "\n",
        "---"
      ],
      "metadata": {
        "id": "fuj-sPmkfsE9"
      }
    },
    {
      "cell_type": "markdown",
      "source": [
        "### Step 7: Hyperparameter Tuning (Optional)\n",
        "To optimize the performance of the SVM model, we can apply grid search to find the best combination of C and gamma for the RBF kernel.\n",
        "\n",
        "---"
      ],
      "metadata": {
        "id": "aFmjVyALf5ZN"
      }
    },
    {
      "cell_type": "code",
      "source": [
        "from sklearn.model_selection import GridSearchCV\n",
        "\n",
        "# Define the parameter grid\n",
        "param_grid = {\n",
        "    'C': [0.1, 1, 10, 100],\n",
        "    'gamma': [0.001, 0.01, 0.1, 'auto'],\n",
        "    'kernel': ['rbf']\n",
        "}\n",
        "\n",
        "# Perform Grid Search with cross-validation\n",
        "grid_search = GridSearchCV(SVC(), param_grid, cv=5, scoring='accuracy')\n",
        "grid_search.fit(X_train, y_train)\n",
        "\n",
        "# Best parameters and accuracy\n",
        "print(f\"\\nBest parameters from Grid Search: {grid_search.best_params_}\")\n",
        "print(f\"Best cross-validation accuracy: {grid_search.best_score_ * 100:.2f}%\")\n",
        "\n",
        "# Use the best estimator to predict\n",
        "best_svm = grid_search.best_estimator_\n",
        "y_pred_best = best_svm.predict(X_test)\n",
        "\n",
        "# Final evaluation\n",
        "print(\"\\nBest RBF Kernel SVM Performance after Hyperparameter Tuning:\")\n",
        "print(f\"Accuracy: {accuracy_score(y_test, y_pred_best) * 100:.2f}%\")\n",
        "print(classification_report(y_test, y_pred_best))\n"
      ],
      "metadata": {
        "colab": {
          "base_uri": "https://localhost:8080/"
        },
        "id": "SnUWDyGSf9lp",
        "outputId": "8337d5e7-d805-4a42-8926-e71cbda83492"
      },
      "execution_count": null,
      "outputs": [
        {
          "output_type": "stream",
          "name": "stdout",
          "text": [
            "\n",
            "Best parameters from Grid Search: {'C': 10, 'gamma': 0.01, 'kernel': 'rbf'}\n",
            "Best cross-validation accuracy: 98.00%\n",
            "\n",
            "Best RBF Kernel SVM Performance after Hyperparameter Tuning:\n",
            "Accuracy: 98.22%\n",
            "              precision    recall  f1-score   support\n",
            "\n",
            "           0       1.00      1.00      1.00        43\n",
            "           1       1.00      1.00      1.00        37\n",
            "           2       0.95      1.00      0.97        38\n",
            "           3       0.98      0.96      0.97        46\n",
            "           4       1.00      1.00      1.00        55\n",
            "           5       0.98      0.98      0.98        59\n",
            "           6       0.98      1.00      0.99        45\n",
            "           7       0.98      0.98      0.98        41\n",
            "           8       1.00      0.97      0.99        38\n",
            "           9       0.96      0.94      0.95        48\n",
            "\n",
            "    accuracy                           0.98       450\n",
            "   macro avg       0.98      0.98      0.98       450\n",
            "weighted avg       0.98      0.98      0.98       450\n",
            "\n"
          ]
        }
      ]
    },
    {
      "cell_type": "markdown",
      "source": [
        "### **Conclusion:**\n",
        "\n",
        "Linear SVM offers a strong, fast baseline performance that is close to 98%, which is excellent given that it operates in a lower-dimensional feature space without mapping to non-linear regions.\n",
        "\n",
        "RBF Kernel SVM slightly improves performance and provides flexibility in capturing non-linear relationships. It's the more appropriate choice for this task when aiming for the best accuracy, especially after tuning.\n",
        "\n",
        "These results demonstrate the strength of SVM for image classification, and further improvements could be explored through techniques like feature extraction or dimensionality reduction (e.g., PCA), though the performance is already very strong."
      ],
      "metadata": {
        "id": "7uhz3gHKgcf3"
      }
    },
    {
      "cell_type": "markdown",
      "source": [
        "## **B. Implement K-Nearest Neighbours’ algorithm on Social network ad dataset. Compute confusion matrix, accuracy, error rate, precision and recall on the given dataset.**\n",
        "Dataset link:https://www.kaggle.com/datasets/rakeshrau/social-network-ads"
      ],
      "metadata": {
        "id": "IaPtjB_AI7xw"
      }
    },
    {
      "cell_type": "markdown",
      "source": [
        "### Step 1: Understanding the Problem\n",
        "\n",
        "The goal is to use the Social Network Ads dataset to classify whether a user purchases a product based on their age and salary, using the K-Nearest Neighbors (KNN) algorithm. Our evaluation metrics will include the confusion matrix, accuracy, error rate, precision, and recall.\n",
        "\n",
        "**Why KNN?**\n",
        "\n",
        "KNN is a simple, non-parametric algorithm that classifies new data points based on similarity (distance) to its neighbors. It's ideal for this classification problem because we have relatively few features (age and salary), and we want to categorize users into one of two classes (Purchased: 0 or 1).\n",
        "\n",
        "---"
      ],
      "metadata": {
        "id": "PJCMQlkIgrd-"
      }
    },
    {
      "cell_type": "markdown",
      "source": [
        "### Step 2: Data Exploration and Initial Inspection\n",
        "First, let’s load the dataset and explore it to check for any anomalies, missing data, or outliers.\n",
        "\n",
        "---"
      ],
      "metadata": {
        "id": "zBHxjpxlgxFy"
      }
    },
    {
      "cell_type": "code",
      "source": [
        "import pandas as pd\n",
        "\n",
        "# Load dataset\n",
        "dataset = pd.read_csv('Social_Network_Ads.csv')\n",
        "\n",
        "# View basic details\n",
        "print(\"Dataset Info:\")\n",
        "print(dataset.info())\n",
        "print(\"\\nFirst few rows of the dataset:\")\n",
        "print(dataset.head())"
      ],
      "metadata": {
        "colab": {
          "base_uri": "https://localhost:8080/"
        },
        "id": "1tlELaAJXrX2",
        "outputId": "e7be2396-3e93-425b-a9d4-e73b1af4f72c"
      },
      "execution_count": null,
      "outputs": [
        {
          "output_type": "stream",
          "name": "stdout",
          "text": [
            "Dataset Info:\n",
            "<class 'pandas.core.frame.DataFrame'>\n",
            "RangeIndex: 400 entries, 0 to 399\n",
            "Data columns (total 5 columns):\n",
            " #   Column           Non-Null Count  Dtype \n",
            "---  ------           --------------  ----- \n",
            " 0   User ID          400 non-null    int64 \n",
            " 1   Gender           400 non-null    object\n",
            " 2   Age              400 non-null    int64 \n",
            " 3   EstimatedSalary  400 non-null    int64 \n",
            " 4   Purchased        400 non-null    int64 \n",
            "dtypes: int64(4), object(1)\n",
            "memory usage: 15.8+ KB\n",
            "None\n",
            "\n",
            "First few rows of the dataset:\n",
            "    User ID  Gender  Age  EstimatedSalary  Purchased\n",
            "0  15624510    Male   19            19000          0\n",
            "1  15810944    Male   35            20000          0\n",
            "2  15668575  Female   26            43000          0\n",
            "3  15603246  Female   27            57000          0\n",
            "4  15804002    Male   19            76000          0\n"
          ]
        }
      ]
    },
    {
      "cell_type": "markdown",
      "source": [
        "---\n",
        "\n",
        "**Dataset Observations:**\n",
        "\n",
        "_Features:_\n",
        "\n",
        "1. `User ID`: Doesn't seem useful for prediction; we can ignore it as it's a unique identifier.\n",
        "2. `Gender`: Might be interesting, but converting it into numerical form (0 for male, 1 for female) could be useful if we decide to include it.\n",
        "3. `Age`: Definitely a key factor in predicting purchase behavior.\n",
        "4. `EstimatedSalary`: Another key factor, as a higher salary could correlate with higher purchasing power.\n",
        "5. `Purchased`: This is our target variable, where 1 indicates the person made a purchase and 0 indicates they didn't.\n",
        "\n",
        "_Data Shape and Missing Values:_\n",
        "\n",
        "The dataset contains 400 rows and 5 columns. From the output of dataset.info(), there are no missing valuess.\n",
        "\n",
        "---"
      ],
      "metadata": {
        "id": "PsMQw9Qkhjhx"
      }
    },
    {
      "cell_type": "markdown",
      "source": [
        "### Step 3: Data Cleaning and Preprocessing\n",
        "Let's focus on the relevant columns (`Age`, `EstimatedSalary`, and `Purchased`) and check for any missing or erroneous data, like zero or negative values in `Age` or `EstimatedSalary`.\n",
        "\n",
        "---"
      ],
      "metadata": {
        "id": "IGzlh4-ziiZP"
      }
    },
    {
      "cell_type": "code",
      "source": [
        "# Drop the 'User ID' column as it's not useful for our analysis\n",
        "dataset_cleaned = dataset.drop(['User ID'], axis=1)"
      ],
      "metadata": {
        "id": "6x3Ckklgi08G"
      },
      "execution_count": null,
      "outputs": []
    },
    {
      "cell_type": "code",
      "source": [
        "# Describe the dataset to check for any strange values\n",
        "print(\"\\nSummary Statistics:\")\n",
        "print(dataset_cleaned.describe())"
      ],
      "metadata": {
        "colab": {
          "base_uri": "https://localhost:8080/"
        },
        "id": "0hp2H1xii9mt",
        "outputId": "c9b72f16-9ec0-4fcd-bac7-2b0a7b8983d6"
      },
      "execution_count": null,
      "outputs": [
        {
          "output_type": "stream",
          "name": "stdout",
          "text": [
            "\n",
            "Summary Statistics:\n",
            "              Age  EstimatedSalary   Purchased\n",
            "count  400.000000       400.000000  400.000000\n",
            "mean    37.655000     69742.500000    0.357500\n",
            "std     10.482877     34096.960282    0.479864\n",
            "min     18.000000     15000.000000    0.000000\n",
            "25%     29.750000     43000.000000    0.000000\n",
            "50%     37.000000     70000.000000    0.000000\n",
            "75%     46.000000     88000.000000    1.000000\n",
            "max     60.000000    150000.000000    1.000000\n"
          ]
        }
      ]
    },
    {
      "cell_type": "markdown",
      "source": [
        "### Step 4: Analyzing and Handling Outliers\n",
        "To further inspect for outliers, we'll visualize the `Age` and `EstimatedSalary` features using boxplots and histograms.\n",
        "\n",
        "---"
      ],
      "metadata": {
        "id": "8_d0M_ckju0O"
      }
    },
    {
      "cell_type": "code",
      "source": [
        "import matplotlib.pyplot as plt\n",
        "import seaborn as sns\n",
        "\n",
        "# Boxplot for Age and EstimatedSalary\n",
        "plt.figure(figsize=(12, 6))\n",
        "plt.subplot(1, 2, 1)\n",
        "sns.boxplot(data=dataset_cleaned, x='Age')\n",
        "plt.title('Boxplot of Age')\n",
        "\n",
        "plt.subplot(1, 2, 2)\n",
        "sns.boxplot(data=dataset_cleaned, x='EstimatedSalary')\n",
        "plt.title('Boxplot of Estimated Salary')\n",
        "\n",
        "plt.tight_layout()\n",
        "plt.show()\n"
      ],
      "metadata": {
        "colab": {
          "base_uri": "https://localhost:8080/",
          "height": 672
        },
        "id": "i7zjZcWUj0cT",
        "outputId": "a21c9541-50a4-4fb0-9b17-f71f791a30f4"
      },
      "execution_count": null,
      "outputs": [
        {
          "output_type": "stream",
          "name": "stderr",
          "text": [
            "/usr/local/lib/python3.10/dist-packages/seaborn/categorical.py:640: FutureWarning: SeriesGroupBy.grouper is deprecated and will be removed in a future version of pandas.\n",
            "  positions = grouped.grouper.result_index.to_numpy(dtype=float)\n",
            "/usr/local/lib/python3.10/dist-packages/seaborn/categorical.py:640: FutureWarning: SeriesGroupBy.grouper is deprecated and will be removed in a future version of pandas.\n",
            "  positions = grouped.grouper.result_index.to_numpy(dtype=float)\n"
          ]
        },
        {
          "output_type": "display_data",
          "data": {
            "text/plain": [
              "<Figure size 1200x600 with 2 Axes>"
            ],
            "image/png": "[encoded data removed]"
          },
          "metadata": {}
        }
      ]
    },
    {
      "cell_type": "markdown",
      "source": [
        "---\n",
        "\n",
        "**Observations:**\n",
        "\n",
        "Everything looks reasonable, we move forward.\n",
        "\n",
        "---"
      ],
      "metadata": {
        "id": "ABbqq7ivj-1a"
      }
    },
    {
      "cell_type": "markdown",
      "source": [
        "### Step 5: Feature Scaling\n",
        "\n",
        "KNN is a distance-based algorithm, meaning that the scale of features directly impacts its performance. Since Age and EstimatedSalary are on different scales, we need to apply feature scaling (standardization).\n",
        "\n",
        "**Why Standardization?:**\n",
        "\n",
        "Standardization ensures that each feature contributes equally to the distance calculation, preventing one feature (like salary) from dominating due to its large scale.\n",
        "\n",
        "---"
      ],
      "metadata": {
        "id": "WVa7dvc5kQtY"
      }
    },
    {
      "cell_type": "code",
      "source": [
        "import pandas as pd\n",
        "from sklearn.preprocessing import StandardScaler, LabelEncoder\n",
        "\n",
        "# Assume 'Gender' is the column with 'Male' and 'Female'\n",
        "\n",
        "# Load your dataset\n",
        "dataset_cleaned = dataset.copy()  # Assuming the dataset is pre-cleaned and loaded as 'dataset'\n",
        "\n",
        "# Step 1: Encoding categorical 'Gender' column\n",
        "label_encoder = LabelEncoder()\n",
        "dataset_cleaned['Gender'] = label_encoder.fit_transform(dataset_cleaned['Gender'])\n",
        "\n",
        "# Step 2: Separating the features and target\n",
        "X = dataset_cleaned.iloc[:, :-1].values   # Features (all columns except the last one)\n",
        "y = dataset_cleaned.iloc[:, -1].values    # Target: Purchased\n",
        "\n",
        "# Step 3: Scaling the numeric features\n",
        "scaler = StandardScaler()\n",
        "X_scaled = scaler.fit_transform(X)\n",
        "\n",
        "# Show first 5 rows of the scaled data\n",
        "print(X_scaled[:5])\n"
      ],
      "metadata": {
        "colab": {
          "base_uri": "https://localhost:8080/"
        },
        "id": "yMLYRDEsk7D2",
        "outputId": "92b42d1e-243d-4128-86ee-2e88d341c585"
      },
      "execution_count": null,
      "outputs": [
        {
          "output_type": "stream",
          "name": "stdout",
          "text": [
            "[[-0.93657932  1.02020406 -1.78179743 -1.49004624]\n",
            " [ 1.66838653  1.02020406 -0.25358736 -1.46068138]\n",
            " [-0.32087714 -0.98019606 -1.11320552 -0.78528968]\n",
            " [-1.23369247 -0.98019606 -1.01769239 -0.37418169]\n",
            " [ 1.57138881  1.02020406 -1.78179743  0.18375059]]\n"
          ]
        }
      ]
    },
    {
      "cell_type": "markdown",
      "source": [
        "---\n",
        "\n",
        "**Observations:**\n",
        "\n",
        "Scaling will transform both `Age` and `EstimatedSalary` to a common scale (mean = 0, standard deviation = 1).\n",
        "\n",
        "This ensures that the Euclidean distance used in KNN is not biased towards larger feature values.\n",
        "\n",
        "---"
      ],
      "metadata": {
        "id": "EaB87O6mtiHM"
      }
    },
    {
      "cell_type": "markdown",
      "source": [
        "### Step 6: Choosing K in KNN\n",
        "**How to choose the number of neighbors (K)?**\n",
        "\n",
        "There is no fixed rule for choosing K, but typical approaches involve cross-validation to find the K that minimizes the error rate.\n",
        "\n",
        "A small K (e.g., K=1) can lead to overfitting, while a large K (e.g., K=20) can underfit. We’ll start with K=5, a commonly used default value, and then tune it later using cross-validation.\n",
        "\n",
        "---"
      ],
      "metadata": {
        "id": "oVbhZ4A4trI4"
      }
    },
    {
      "cell_type": "markdown",
      "source": [
        "### Step 7: Train/Test Split\n",
        "We split the dataset into training and testing sets to evaluate our model.\n",
        "\n",
        "---"
      ],
      "metadata": {
        "id": "RuumqqXRt5kh"
      }
    },
    {
      "cell_type": "code",
      "source": [
        "from sklearn.model_selection import train_test_split\n",
        "\n",
        "# Split the dataset into training and testing sets\n",
        "X_train, X_test, y_train, y_test = train_test_split(X_scaled, y, test_size=0.25, random_state=42)\n",
        "\n",
        "# Check the shapes to ensure proper split\n",
        "print(f\"\\nTraining set size: {X_train.shape[0]}\")\n",
        "print(f\"Test set size: {X_test.shape[0]}\")\n"
      ],
      "metadata": {
        "colab": {
          "base_uri": "https://localhost:8080/"
        },
        "id": "qRQwXJ6cXt3s",
        "outputId": "c5d16ef3-64a2-449f-eea4-fe41ca620d9f"
      },
      "execution_count": null,
      "outputs": [
        {
          "output_type": "stream",
          "name": "stdout",
          "text": [
            "\n",
            "Training set size: 300\n",
            "Test set size: 100\n"
          ]
        }
      ]
    },
    {
      "cell_type": "markdown",
      "source": [
        "---\n",
        "\n",
        "**Why 25% test size?**\n",
        "\n",
        "A 75-25 split is common in classification problems. The larger portion is used for training to ensure the model learns well, and 25% is held back for testing.\n",
        "\n",
        "---"
      ],
      "metadata": {
        "id": "cpksYeNZuSR5"
      }
    },
    {
      "cell_type": "markdown",
      "source": [
        "### Step 8: Implementing KNN\n",
        "Now we implement the KNN classifier with K=5, but later we’ll test other K values to find the best fit.\n",
        "\n",
        "---"
      ],
      "metadata": {
        "id": "x-e7v7tXuZFz"
      }
    },
    {
      "cell_type": "code",
      "source": [
        "from sklearn.neighbors import KNeighborsClassifier\n",
        "\n",
        "# Create KNN classifier with K=5\n",
        "knn_classifier = KNeighborsClassifier(n_neighbors=5, metric='minkowski', p=2)\n",
        "knn_classifier.fit(X_train, y_train)\n",
        "\n",
        "# Make predictions on the test set\n",
        "y_pred = knn_classifier.predict(X_test)\n"
      ],
      "metadata": {
        "id": "DHE9f81uX0QT"
      },
      "execution_count": null,
      "outputs": []
    },
    {
      "cell_type": "markdown",
      "source": [
        "---\n",
        "\n",
        "**Why Euclidean Distance (p=2)?**\n",
        "\n",
        "In `KNeighborsClassifier`, the Minkowski distance is a generalization of both Manhattan and Euclidean distances. Setting `p=2` specifies Euclidean distance, which is typically the best choice for continuous variables like `Age` and `EstimatedSalary`.\n",
        "\n",
        "---"
      ],
      "metadata": {
        "id": "N5kH9XW-uknQ"
      }
    },
    {
      "cell_type": "markdown",
      "source": [
        "### Step 9: Model Evaluation\n",
        "We will evaluate the model using various metrics: confusion matrix, accuracy, error rate, precision, and recall.\n",
        "\n",
        "---"
      ],
      "metadata": {
        "id": "Ch9v_CLVu08t"
      }
    },
    {
      "cell_type": "code",
      "source": [
        "from sklearn.metrics import confusion_matrix, accuracy_score, precision_score, recall_score\n",
        "\n",
        "# Confusion matrix\n",
        "cm = confusion_matrix(y_test, y_pred)\n",
        "print(\"\\nConfusion Matrix:\")\n",
        "print(cm)\n",
        "\n",
        "# Accuracy, error rate, precision, and recall\n",
        "accuracy = accuracy_score(y_test, y_pred)\n",
        "error_rate = 1 - accuracy\n",
        "precision = precision_score(y_test, y_pred)\n",
        "recall = recall_score(y_test, y_pred)\n",
        "\n",
        "print(f\"\\nAccuracy: {accuracy * 100:.2f}%\")\n",
        "print(f\"Error Rate: {error_rate * 100:.2f}%\")\n",
        "print(f\"Precision: {precision:.2f}\")\n",
        "print(f\"Recall: {recall:.2f}\")\n"
      ],
      "metadata": {
        "colab": {
          "base_uri": "https://localhost:8080/"
        },
        "id": "8g_c3gyGX_x0",
        "outputId": "a8591cc4-2d6a-45a0-980e-202e7fac9de4"
      },
      "execution_count": null,
      "outputs": [
        {
          "output_type": "stream",
          "name": "stdout",
          "text": [
            "\n",
            "Confusion Matrix:\n",
            "[[60  3]\n",
            " [ 5 32]]\n",
            "\n",
            "Accuracy: 92.00%\n",
            "Error Rate: 8.00%\n",
            "Precision: 0.91\n",
            "Recall: 0.86\n"
          ]
        }
      ]
    },
    {
      "cell_type": "markdown",
      "source": [
        "---\n",
        "\n",
        "**Observations:**\n",
        "\n",
        "- **Confusion Matrix:** Shows the number of True Positives, True Negatives, False Positives, and False Negatives.\n",
        "- **Accuracy**: The percentage of correct predictions.\n",
        "- **Error Rate:** The percentage of incorrect predictions.\n",
        "- **Precision**: How many predicted positives are actually positive.\n",
        "- **Recall**: How many actual positives were predicted correctly.\n",
        "\n",
        "---"
      ],
      "metadata": {
        "id": "_RnHyA-xvLgR"
      }
    },
    {
      "cell_type": "markdown",
      "source": [
        "### Step 10: Conclusion and Next Steps\n",
        "- **Exploration of K:** We can further optimize by exploring different K values using cross-validation and picking the one that minimizes the error rate.\n",
        "- **Feature Engineering:** We could include the Gender feature if it provides more value or explore other combinations of features.\n",
        "- **Advanced Models:** We could compare KNN with other models like logistic regression, decision trees, or SVM to see which works best for this classification problem.\n",
        "\n",
        "---"
      ],
      "metadata": {
        "id": "ob2GGMIevpP_"
      }
    }
  ]
}