{
  "nbformat": 4,
  "nbformat_minor": 0,
  "metadata": {
    "colab": {
      "provenance": []
    },
    "kernelspec": {
      "name": "python3",
      "display_name": "Python 3"
    },
    "language_info": {
      "name": "python"
    }
  },
  "cells": [
    {
      "cell_type": "markdown",
      "source": [
        "###IR PRACTICAL 4\n",
        "\n",
        "**Problem Statement** -\n",
        "Implement Page Rank Algorithm. (Use python or beautiful soup for implementation).\n",
        "\n",
        "**Name** - Harshali Devi\n",
        "\n",
        "**Department** - AI&DS\n",
        "\n",
        "**Roll Number** - 1059"
      ],
      "metadata": {
        "id": "4CUGR9-GVXKu"
      }
    },
    {
      "cell_type": "code",
      "execution_count": null,
      "metadata": {
        "id": "U1VoUFQRPZ69"
      },
      "outputs": [],
      "source": [
        "import numpy as np\n",
        "\n",
        "# Define a simple web graph with 4 pages and their links\n",
        "web_graph = {\n",
        "    'A': ['B', 'C'],\n",
        "    'B': ['C'],\n",
        "    'C': ['A'],\n",
        "    'D': ['C']\n",
        "}"
      ]
    },
    {
      "cell_type": "markdown",
      "source": [
        "**Explanation:**\n",
        "Page A links to B and C.\n",
        "\n",
        "Page B links to C.\n",
        "\n",
        "Page C links to A.\n",
        "\n",
        "Page D links to C.\n",
        "\n",
        "How it works:\n",
        "\n",
        "In this example, the ranks of pages A, B, C, and D will be updated based on how they link to one another.\n",
        "\n",
        "For instance:\n",
        "Page C receives rank contributions from pages A, B, and D since they all link to C.\n",
        "Page A only receives contributions from page C."
      ],
      "metadata": {
        "id": "ogcGm14QTTr8"
      }
    },
    {
      "cell_type": "code",
      "source": [
        "def initialize_ranks(graph):\n",
        "    num_pages = len(graph)\n",
        "    ranks = {page: 1 / num_pages for page in graph}\n",
        "    return ranks\n"
      ],
      "metadata": {
        "id": "JX9jdMHqSF_R"
      },
      "execution_count": null,
      "outputs": []
    },
    {
      "cell_type": "markdown",
      "source": [
        "**Purpose:** Initialize each page's rank with an equal value.\n",
        "This assumes that every page is equally important at the start.\n",
        "\n",
        "**Explanation:**\n",
        "We calculate the number of pages in the graph using len(graph).\n",
        "\n",
        "Each page is given a rank of 1 / num_pages because the total rank is shared equally among all pages initially.\n",
        "\n",
        "For a graph with 4 pages, each page's rank would start as 1/4 = 0.25."
      ],
      "metadata": {
        "id": "sGOY4rhzTh6b"
      }
    },
    {
      "cell_type": "code",
      "source": [
        "def distribute_ranks(graph, ranks, d=0.85, iterations=10):\n",
        "    num_pages = len(graph)\n",
        "    for _ in range(iterations):\n",
        "        new_ranks = {}\n",
        "        for page in graph:\n",
        "            new_rank = (1 - d) / num_pages  # Base rank (damping factor)\n",
        "            for other_page in graph:\n",
        "                if page in graph[other_page]:  # Check if other_page links to the current page\n",
        "                    new_rank += d * (ranks[other_page] / len(graph[other_page]))\n",
        "            new_ranks[page] = new_rank\n",
        "        ranks = new_ranks\n",
        "    return ranks\n"
      ],
      "metadata": {
        "id": "6Z6qK8bOThGV"
      },
      "execution_count": null,
      "outputs": []
    },
    {
      "cell_type": "markdown",
      "source": [
        "**Purpose:** This function redistributes the ranks over the graph based on the PageRank formula, iterating to allow the ranks to stabilize.\n",
        "\n",
        "**Explanation:**\n",
        "\n",
        "**Damping factor d:** It models the probability of continuing to follow links (default is 0.85). The other probability (1 - d) is the chance of randomly jumping to another page.\n",
        "\n",
        "**Iterations:** The algorithm iterates multiple times (default 10 times) to allow the ranks to adjust.\n",
        "For each page, the new rank is initially set to (1 - d) / num_pages, representing the random jump factor.\n",
        "The rank of each page is updated based on the rank of pages linking to it (other_page). For example, if page B links to C, C will get part of B’s rank."
      ],
      "metadata": {
        "id": "WM-IrRx8UnOn"
      }
    },
    {
      "cell_type": "code",
      "source": [
        "def pagerank(graph):\n",
        "    ranks = initialize_ranks(graph)  # Initialize ranks\n",
        "    final_ranks = distribute_ranks(graph, ranks)  # Distribute ranks over iterations\n",
        "    return final_ranks\n"
      ],
      "metadata": {
        "id": "aD8kfZfEUjDT"
      },
      "execution_count": null,
      "outputs": []
    },
    {
      "cell_type": "markdown",
      "source": [
        "**Purpose:** To put everything together and compute the PageRank for all pages.\n",
        "\n",
        "**Explanation:**\n",
        "\n",
        "First, initialize_ranks is called to set equal starting ranks for all pages.\n",
        "Then, distribute_ranks runs the PageRank distribution process for the specified number of iterations, updating the ranks each time.\n",
        "Finally, the updated ranks are returned."
      ],
      "metadata": {
        "id": "uFERAaifU8Fi"
      }
    },
    {
      "cell_type": "code",
      "source": [
        "ranks = pagerank(web_graph)\n",
        "for page, rank in ranks.items():\n",
        "    print(f\"Page {page} has rank: {rank:.4f}\")\n"
      ],
      "metadata": {
        "colab": {
          "base_uri": "https://localhost:8080/"
        },
        "id": "Vrg7iun-U7MZ",
        "outputId": "29d8437e-c20e-4999-e372-670506bb496f"
      },
      "execution_count": null,
      "outputs": [
        {
          "output_type": "stream",
          "name": "stdout",
          "text": [
            "Page A has rank: 0.3751\n",
            "Page B has rank: 0.1949\n",
            "Page C has rank: 0.3925\n",
            "Page D has rank: 0.0375\n"
          ]
        }
      ]
    },
    {
      "cell_type": "markdown",
      "source": [
        "**Purpose:** To display the final rank of each page after applying the PageRank algorithm.\n",
        "\n",
        "**Explanation:**\n",
        "The pagerank function is called with web_graph, and the results are printed.\n",
        "Each page and its corresponding rank are displayed with 4 decimal points of precision."
      ],
      "metadata": {
        "id": "T5mUdjwyVIX-"
      }
    }
  ]
}