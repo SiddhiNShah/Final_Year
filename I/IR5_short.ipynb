{
 "cells": [
  {
   "cell_type": "code",
   "execution_count": 12,
   "id": "73e9bcdb-7e55-43ef-a21b-c0870e408977",
   "metadata": {},
   "outputs": [
    {
     "name": "stdout",
     "output_type": "stream",
     "text": [
      "Title: Packard 255 G2\n",
      "Price: $416.99\n",
      "Link: https://webscraper.io/test-sites/e-commerce/static/product/31\n",
      "--------------------------------------------------\n",
      "Title: Aspire E1-510\n",
      "Price: $306.99\n",
      "Link: https://webscraper.io/test-sites/e-commerce/static/product/32\n",
      "--------------------------------------------------\n",
      "Title: ThinkPad T540p\n",
      "Price: $1178.99\n",
      "Link: https://webscraper.io/test-sites/e-commerce/static/product/33\n",
      "--------------------------------------------------\n",
      "Title: ProBook\n",
      "Price: $739.99\n",
      "Link: https://webscraper.io/test-sites/e-commerce/static/product/34\n",
      "--------------------------------------------------\n",
      "Title: ThinkPad X240\n",
      "Price: $1311.99\n",
      "Link: https://webscraper.io/test-sites/e-commerce/static/product/35\n",
      "--------------------------------------------------\n",
      "Title: Aspire E1-572G\n",
      "Price: $581.99\n",
      "Link: https://webscraper.io/test-sites/e-commerce/static/product/36\n",
      "--------------------------------------------------\n"
     ]
    }
   ],
   "source": [
    "import requests\n",
    "from bs4 import BeautifulSoup\n",
    "\n",
    "url = \"https://webscraper.io/test-sites/e-commerce/static/computers/laptops\"\n",
    "\n",
    "response = requests.get(url)\n",
    "\n",
    "if response.status_code == 200:\n",
    "    soup = BeautifulSoup(response.content, \"html.parser\")\n",
    "\n",
    "    products = soup.find_all(\"div\", class_=\"thumbnail\")\n",
    "\n",
    "    for product in products:\n",
    "        title = product.find(\"a\", class_=\"title\").text\n",
    "        price = product.find(\"h4\", class_=\"price\").text\n",
    "        link = \"https://webscraper.io\" + product.find(\"a\", class_=\"title\")[\"href\"]\n",
    "\n",
    "        print(f\"Title: {title}\")\n",
    "        print(f\"Price: {price}\")\n",
    "        print(f\"Link: {link}\")\n",
    "        print(\"-\" * 50)\n",
    "else:\n",
    "    print(\"Failed to retrieve the page. Status code:\", response.status_code)"
   ]
  },
  {
   "cell_type": "code",
   "execution_count": null,
   "id": "6efc08ad-1e4b-4b05-9348-b91a840d4e79",
   "metadata": {},
   "outputs": [],
   "source": []
  }
 ],
 "metadata": {
  "kernelspec": {
   "display_name": "Python 3 (ipykernel)",
   "language": "python",
   "name": "python3"
  },
  "language_info": {
   "codemirror_mode": {
    "name": "ipython",
    "version": 3
   },
   "file_extension": ".py",
   "mimetype": "text/x-python",
   "name": "python",
   "nbconvert_exporter": "python",
   "pygments_lexer": "ipython3",
   "version": "3.12.1"
  }
 },
 "nbformat": 4,
 "nbformat_minor": 5
}
