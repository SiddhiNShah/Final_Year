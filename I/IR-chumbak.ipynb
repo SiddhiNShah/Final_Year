{
  "nbformat": 4,
  "nbformat_minor": 0,
  "metadata": {
    "colab": {
      "provenance": []
    },
    "kernelspec": {
      "name": "python3",
      "display_name": "Python 3"
    },
    "language_info": {
      "name": "python"
    }
  },
  "cells": [
    {
      "cell_type": "code",
      "execution_count": 16,
      "metadata": {
        "id": "OWpsEG-pHFho"
      },
      "outputs": [],
      "source": [
        "import re\n",
        "import requests\n",
        "from bs4 import BeautifulSoup"
      ]
    },
    {
      "cell_type": "code",
      "source": [],
      "metadata": {
        "id": "oIP0_yaRQ-qk"
      },
      "execution_count": 16,
      "outputs": []
    },
    {
      "cell_type": "code",
      "source": [
        "item=input(\"Enter item you want : \\n1.Dining\\n2.Bags\\n3.Watches\")"
      ],
      "metadata": {
        "colab": {
          "base_uri": "https://localhost:8080/"
        },
        "id": "N6mn1IkGHZ_w",
        "outputId": "6f7d8946-d084-4715-d663-3b1d03149699"
      },
      "execution_count": 17,
      "outputs": [
        {
          "name": "stdout",
          "output_type": "stream",
          "text": [
            "Enter item you want : \n",
            "1.Dining\n",
            "2.Bags\n",
            "3.Watcheswatches\n"
          ]
        }
      ]
    },
    {
      "cell_type": "code",
      "source": [
        "url=f\"https://www.chumbak.com/collections/{item}\"\n",
        "res=requests.get(url).text\n",
        "doc=BeautifulSoup(res,\"html.parser\")\n",
        "totalcount=0\n",
        "selectcount=0\n",
        "pagecount=0\n",
        "\n",
        "pagetxt=doc.find(class_=\"pagination\")"
      ],
      "metadata": {
        "id": "LbDezi2NKqmz"
      },
      "execution_count": 18,
      "outputs": []
    },
    {
      "cell_type": "code",
      "source": [
        "if pagetxt:\n",
        "  precise=pagetxt.findAll('a',class_='pagination__link')\n",
        "  if precise:\n",
        "    maxpg=0\n",
        "    for link in precise:\n",
        "      pgno=link.text.strip()\n",
        "      if pgno:\n",
        "        val=int(pgno)\n",
        "        if val>maxpg:\n",
        "          maxpg=val\n",
        "    for page in range(1,maxpg+1):\n",
        "      pagecount+=1\n",
        "      url = f\"https://www.chumbak.com/collections/{item}?page={page}\"\n",
        "      res=requests.get(url).text\n",
        "      doc=BeautifulSoup(res,\"html.parser\")\n",
        "      products=doc.find_all(class_=\"product-card\")\n",
        "      for prod in products:\n",
        "        product_name_element = prod.find(class_=\"product-title\")\n",
        "        if product_name_element:\n",
        "          product_name=product_name_element.text.strip()\n",
        "          totalcount+=1\n",
        "        sale_price_element = prod.find(string=re.compile(\"₹ 2,000\"))\n",
        "        if sale_price_element:\n",
        "          sale_price = sale_price_element.strip()\n",
        "          selectcount += 1\n",
        "\n",
        "                    # Extract product link\n",
        "          product_link_element = prod.find('a', href=True)\n",
        "          if product_link_element:\n",
        "            product_link = \"https://www.chumbak.com\" + product_link_element['href']\n",
        "          else:\n",
        "            product_link = \"Link not available\"\n",
        "\n",
        "                    # Print product details\n",
        "          print(f\"Sale Price: {sale_price} | Product name: {product_name} | Link: {product_link}\")\n",
        "\n",
        "print(\"Total count:\", totalcount)\n",
        "print(\"Select count:\", selectcount)\n",
        "print(\"Page count:\", pagecount)\n",
        "\n",
        "\n"
      ],
      "metadata": {
        "colab": {
          "base_uri": "https://localhost:8080/"
        },
        "id": "DWDfz5qUPQ-A",
        "outputId": "57300b2f-1ec8-46d2-a570-e1219f8af483"
      },
      "execution_count": 19,
      "outputs": [
        {
          "output_type": "stream",
          "name": "stdout",
          "text": [
            "Sale Price: ₹ 2,000 | Product name: Chumbak Smartwatch - Wilderness | Link: https://www.chumbak.com/products/chumbak-smartwatch-wilderness\n",
            "Sale Price: ₹ 2,000 | Product name: Chumbak Smartwatch - Rainforest | Link: https://www.chumbak.com/products/chumbak-smartwatch-rainforest\n",
            "Sale Price: ₹ 2,000 | Product name: Chumbak Smartwatch for Women- Mosaic | Link: https://www.chumbak.com/products/chumbak-smartwatch-for-women\n",
            "Sale Price: ₹ 2,000 | Product name: Chumbak Smartwatch - Bloom | Link: https://www.chumbak.com/products/chumbak-smartwatch-bloom\n",
            "Total count: 180\n",
            "Select count: 4\n",
            "Page count: 2\n"
          ]
        }
      ]
    },
    {
      "cell_type": "code",
      "source": [],
      "metadata": {
        "id": "DgElZ9YGQ3AZ"
      },
      "execution_count": null,
      "outputs": []
    }
  ]
}