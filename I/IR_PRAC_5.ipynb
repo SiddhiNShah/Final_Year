{
  "nbformat": 4,
  "nbformat_minor": 0,
  "metadata": {
    "colab": {
      "provenance": []
    },
    "kernelspec": {
      "name": "python3",
      "display_name": "Python 3"
    },
    "language_info": {
      "name": "python"
    }
  },
  "cells": [
    {
      "cell_type": "markdown",
      "source": [
        "###IR PRACTICAL 5\n",
        "\n",
        "**Problem Statement** - Build the web crawler to pull product information and links from an e- commerce website.\n",
        "\n",
        "**Name** - Harshali Devi\n",
        "\n",
        "**Department** - AI&DS\n",
        "\n",
        "**Roll Number** - 1059"
      ],
      "metadata": {
        "id": "qlhQyOuyOWx8"
      }
    },
    {
      "cell_type": "code",
      "execution_count": null,
      "metadata": {
        "colab": {
          "base_uri": "https://localhost:8080/"
        },
        "id": "AkMNkHZxN9Iq",
        "outputId": "a712266c-7924-4946-d488-4859a5fd0e7c"
      },
      "outputs": [
        {
          "output_type": "stream",
          "name": "stdout",
          "text": [
            "Enter item you want?\n",
            "1) dining-kitchen\n",
            "2) bags-accessories\n",
            "3) watches\n",
            "watches\n",
            "Sale Price: ₹ 2,000 | Product name: Chumbak Smartwatch - Wilderness | Link: https://www.chumbak.com/products/chumbak-smartwatch-wilderness\n",
            "Sale Price: ₹ 2,000 | Product name: Chumbak Smartwatch - Rainforest | Link: https://www.chumbak.com/products/chumbak-smartwatch-rainforest\n",
            "Sale Price: ₹ 2,000 | Product name: Chumbak Smartwatch for Women- Mosaic | Link: https://www.chumbak.com/products/chumbak-smartwatch-for-women\n",
            "Sale Price: ₹ 2,000 | Product name: Chumbak Smartwatch - Bloom | Link: https://www.chumbak.com/products/chumbak-smartwatch-bloom\n",
            "Total count: 186\n",
            "Select count: 4\n",
            "Page count: 2\n"
          ]
        }
      ],
      "source": [
        "import requests\n",
        "from bs4 import BeautifulSoup\n",
        "import re\n",
        "\n",
        "item = input(\"Enter item you want?\\n1) dining-kitchen\\n2) bags-accessories\\n3) watches\\n\")\n",
        "\n",
        "url = f\"https://www.chumbak.com/collections/{item}\"\n",
        "res = requests.get(url).text\n",
        "doc = BeautifulSoup(res, \"html.parser\")\n",
        "total_count = 0\n",
        "select_count = 0\n",
        "page_count = 0\n",
        "\n",
        "# Find all product-card elements\n",
        "page_text = doc.find(class_=\"pagination\")\n",
        "if page_text:\n",
        "    precise = page_text.findAll('a', class_='pagination__link')\n",
        "    if precise:\n",
        "        max_page = 0\n",
        "        for link in precise:\n",
        "            page_number = link.text.strip()\n",
        "            if page_number:  # Check if the extracted text is not empty\n",
        "                val = int(page_number)\n",
        "                if val > max_page:\n",
        "                    max_page = val\n",
        "        for page in range(1, max_page + 1):\n",
        "            page_count += 1\n",
        "            url = f\"https://www.chumbak.com/collections/{item}?page={page}\"\n",
        "            res = requests.get(url).text\n",
        "            doc = BeautifulSoup(res, \"html.parser\")\n",
        "            products = doc.find_all(class_=\"product-card\")\n",
        "            for product in products:\n",
        "                # Extract product name\n",
        "                product_name_element = product.find(class_=\"product-title\")\n",
        "                if product_name_element:\n",
        "                    product_name = product_name_element.text.strip()\n",
        "                    total_count += 1\n",
        "\n",
        "                # Extract sale price\n",
        "                sale_price_element = product.find(string=re.compile(\"₹ 2,000\"))\n",
        "                if sale_price_element:\n",
        "                    sale_price = sale_price_element.strip()\n",
        "                    select_count += 1\n",
        "\n",
        "                    # Extract product link\n",
        "                    product_link_element = product.find('a', href=True)\n",
        "                    if product_link_element:\n",
        "                        product_link = \"https://www.chumbak.com\" + product_link_element['href']\n",
        "                    else:\n",
        "                        product_link = \"Link not available\"\n",
        "\n",
        "                    # Print product details\n",
        "                    print(f\"Sale Price: {sale_price} | Product name: {product_name} | Link: {product_link}\")\n",
        "\n",
        "print(\"Total count:\", total_count)\n",
        "print(\"Select count:\", select_count)\n",
        "print(\"Page count:\", page_count)\n",
        "\n",
        "\n",
        "\n",
        "#we can also use -> sale_price_element.parent  ->sale_price_element.find_parent(\"enter name\")\n",
        "#https://www.youtube.com/watch?v=zAEfWiC_KBU"
      ]
    },
    {
      "cell_type": "code",
      "source": [],
      "metadata": {
        "id": "i1kA5_KWOVV_"
      },
      "execution_count": null,
      "outputs": []
    }
  ]
}